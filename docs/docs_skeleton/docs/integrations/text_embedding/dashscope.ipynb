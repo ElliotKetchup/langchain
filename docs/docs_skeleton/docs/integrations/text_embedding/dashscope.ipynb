{
    "cells": [
        {
            "attachments": {},
            "cell_type": "markdown",
            "metadata": {},
            "source": [
                "# DashScope\n",
                "[![Open In Collab](https://colab.research.google.com/assets/colab-badge.svg)](https://colab.research.google.com/github/langchain-ai/langchain/blob/master//Users/bagatur/langchain/docs/docs_skeleton/docs/integrations/text_embedding/dashscope.ipynb)\n",
                "\n",
                "Let's load the DashScope Embedding class."
            ]
        },
        {
            "cell_type": "code",
            "execution_count": null,
            "metadata": {},
            "outputs": [],
            "source": [
                "from langchain.embeddings import DashScopeEmbeddings"
            ]
        },
        {
            "cell_type": "code",
            "execution_count": null,
            "metadata": {},
            "outputs": [],
            "source": [
                "embeddings = DashScopeEmbeddings(\n",
                "    model=\"text-embedding-v1\", dashscope_api_key=\"your-dashscope-api-key\"\n",
                ")"
            ]
        },
        {
            "cell_type": "code",
            "execution_count": null,
            "metadata": {},
            "outputs": [],
            "source": [
                "text = \"This is a test document.\""
            ]
        },
        {
            "cell_type": "code",
            "execution_count": null,
            "metadata": {},
            "outputs": [],
            "source": [
                "query_result = embeddings.embed_query(text)\n",
                "print(query_result)"
            ]
        },
        {
            "cell_type": "code",
            "execution_count": null,
            "metadata": {},
            "outputs": [],
            "source": [
                "doc_results = embeddings.embed_documents([\"foo\"])\n",
                "print(doc_results)"
            ]
        }
    ],
    "metadata": {
        "kernelspec": {
            "display_name": "chatgpt",
            "language": "python",
            "name": "python3"
        },
        "language_info": {
            "codemirror_mode": {
                "name": "ipython",
                "version": 3
            },
            "file_extension": ".py",
            "mimetype": "text/x-python",
            "name": "python",
            "nbconvert_exporter": "python",
            "pygments_lexer": "ipython3",
            "version": "3.10.4"
        },
        "orig_nbformat": 4
    },
    "nbformat": 4,
    "nbformat_minor": 2
}